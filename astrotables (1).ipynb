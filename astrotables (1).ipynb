{
 "cells": [
  {
   "cell_type": "code",
   "execution_count": 1,
   "id": "b1ba748b-490d-4e21-8852-1f72f420fa70",
   "metadata": {},
   "outputs": [
    {
     "name": "stdout",
     "output_type": "stream",
     "text": [
      "x: [ 0.          0.34482759  0.68965517  1.03448276  1.37931034  1.72413793\n",
      "  2.06896552  2.4137931   2.75862069  3.10344828  3.44827586  3.79310345\n",
      "  4.13793103  4.48275862  4.82758621  5.17241379  5.51724138  5.86206897\n",
      "  6.20689655  6.55172414  6.89655172  7.24137931  7.5862069   7.93103448\n",
      "  8.27586207  8.62068966  8.96551724  9.31034483  9.65517241 10.        ]\n",
      "noisy_y: [ 1.73605093  3.6616867   1.18057784  2.61023171  5.95986212  4.19414535\n",
      "  5.81784632  4.36012847  6.61494503  8.40938074  9.93824473  9.58053307\n",
      "  7.66677883 11.16271344 12.60027543 11.27176999 12.40007799 13.95308359\n",
      " 13.38008213 16.07981481 14.14410793 14.17439339 10.04492371 17.43086475\n",
      " 17.06932898 18.40780478 21.25215536 21.33588224 19.68045291 23.41451091]\n",
      "y_error: [1.60423822 1.94254136 1.06175292 0.31294443 1.58832935 2.17775318\n",
      " 0.50906212 1.14346873 0.92035736 1.64063992 2.00403526 2.86596018\n",
      " 2.10636437 2.72173848 1.84885394 0.6376689  0.91616065 2.87629562\n",
      " 1.50697538 2.99815586 0.3878733  0.91907335 2.61132808 0.59679898\n",
      " 0.62176799 2.451225   1.30293876 1.54748135 1.27070009 1.31945726]\n"
     ]
    }
   ],
   "source": [
    "import pandas as pd # a library that works with data analysis and manipulation.\n",
    "\n",
    "df = pd.read_csv(r\"C:\\Users\\v564k261\\Downloads\\linear_data_v1.csv\") # read in the file\n",
    "\n",
    "x = df[\"x\"].to_numpy() # call a column of values into an array\n",
    "noisy_y = df[\"noisy_y\"].to_numpy()\n",
    "y_error = df[\"y_error\"].to_numpy()\n",
    "\n",
    "print(\"x:\", x)          # print them \n",
    "print(\"noisy_y:\", noisy_y)\n",
    "print(\"y_error:\", y_error)"
   ]
  },
  {
   "cell_type": "code",
   "execution_count": 2,
   "id": "fbca2327-d34c-4732-bd9a-0e93d8cd0708",
   "metadata": {},
   "outputs": [],
   "source": [
    "from astropy.table import Table, Column \n",
    "t = Table([ x, noisy_y, y_error ], names=('x', 'noisy_y', 'y_error'))"
   ]
  },
  {
   "cell_type": "code",
   "execution_count": 3,
   "id": "3c32942b-1d8d-4cc2-9ec0-f78c852e29d5",
   "metadata": {},
   "outputs": [
    {
     "data": {
      "text/html": [
       "<div><i>Table length=30</i>\n",
       "<table id=\"table2591532048272\" class=\"table-striped table-bordered table-condensed\">\n",
       "<thead><tr><th>x</th><th>noisy_y</th><th>y_error</th></tr></thead>\n",
       "<thead><tr><th>float64</th><th>float64</th><th>float64</th></tr></thead>\n",
       "<tr><td>0.0</td><td>1.7360509309286671</td><td>1.6042382156957993</td></tr>\n",
       "<tr><td>0.3448275862068966</td><td>3.661686702075544</td><td>1.9425413624122048</td></tr>\n",
       "<tr><td>0.6896551724137931</td><td>1.18057784261486</td><td>1.0617529171843838</td></tr>\n",
       "<tr><td>1.0344827586206895</td><td>2.610231712463395</td><td>0.3129444336059633</td></tr>\n",
       "<tr><td>1.3793103448275863</td><td>5.959862116812046</td><td>1.5883293503598452</td></tr>\n",
       "<tr><td>1.7241379310344829</td><td>4.1941453450668895</td><td>2.177753175667884</td></tr>\n",
       "<tr><td>2.0689655172413794</td><td>5.817846322419468</td><td>0.5090621195447468</td></tr>\n",
       "<tr><td>2.413793103448276</td><td>4.36012846802356</td><td>1.1434687271480668</td></tr>\n",
       "<tr><td>2.7586206896551726</td><td>6.614945026338582</td><td>0.9203573613801008</td></tr>\n",
       "<tr><td>...</td><td>...</td><td>...</td></tr>\n",
       "<tr><td>6.896551724137932</td><td>14.144107931240503</td><td>0.3878732969140542</td></tr>\n",
       "<tr><td>7.241379310344828</td><td>14.17439339221375</td><td>0.9190733501546212</td></tr>\n",
       "<tr><td>7.586206896551724</td><td>10.044923709321903</td><td>2.611328077974711</td></tr>\n",
       "<tr><td>7.931034482758621</td><td>17.430864750866952</td><td>0.5967989843234848</td></tr>\n",
       "<tr><td>8.275862068965518</td><td>17.069328979376184</td><td>0.6217679900566386</td></tr>\n",
       "<tr><td>8.620689655172415</td><td>18.40780478378687</td><td>2.451225001121484</td></tr>\n",
       "<tr><td>8.965517241379311</td><td>21.252155356973937</td><td>1.3029387572148945</td></tr>\n",
       "<tr><td>9.310344827586208</td><td>21.33588223867946</td><td>1.5474813451877103</td></tr>\n",
       "<tr><td>9.655172413793103</td><td>19.680452908107178</td><td>1.270700091013245</td></tr>\n",
       "<tr><td>10.0</td><td>23.41451090689951</td><td>1.319457259452891</td></tr>\n",
       "</table></div>"
      ],
      "text/plain": [
       "<Table length=30>\n",
       "        x               noisy_y            y_error      \n",
       "     float64            float64            float64      \n",
       "------------------ ------------------ ------------------\n",
       "               0.0 1.7360509309286671 1.6042382156957993\n",
       "0.3448275862068966  3.661686702075544 1.9425413624122048\n",
       "0.6896551724137931   1.18057784261486 1.0617529171843838\n",
       "1.0344827586206895  2.610231712463395 0.3129444336059633\n",
       "1.3793103448275863  5.959862116812046 1.5883293503598452\n",
       "1.7241379310344829 4.1941453450668895  2.177753175667884\n",
       "2.0689655172413794  5.817846322419468 0.5090621195447468\n",
       " 2.413793103448276   4.36012846802356 1.1434687271480668\n",
       "2.7586206896551726  6.614945026338582 0.9203573613801008\n",
       "               ...                ...                ...\n",
       " 6.896551724137932 14.144107931240503 0.3878732969140542\n",
       " 7.241379310344828  14.17439339221375 0.9190733501546212\n",
       " 7.586206896551724 10.044923709321903  2.611328077974711\n",
       " 7.931034482758621 17.430864750866952 0.5967989843234848\n",
       " 8.275862068965518 17.069328979376184 0.6217679900566386\n",
       " 8.620689655172415  18.40780478378687  2.451225001121484\n",
       " 8.965517241379311 21.252155356973937 1.3029387572148945\n",
       " 9.310344827586208  21.33588223867946 1.5474813451877103\n",
       " 9.655172413793103 19.680452908107178  1.270700091013245\n",
       "              10.0  23.41451090689951  1.319457259452891"
      ]
     },
     "execution_count": 3,
     "metadata": {},
     "output_type": "execute_result"
    }
   ],
   "source": [
    "t"
   ]
  },
  {
   "cell_type": "code",
   "execution_count": 4,
   "id": "a2cfa191-0ee0-4d13-b9f7-56f0c00372a9",
   "metadata": {},
   "outputs": [
    {
     "data": {
      "text/plain": [
       "['x', 'noisy_y', 'y_error']"
      ]
     },
     "execution_count": 4,
     "metadata": {},
     "output_type": "execute_result"
    }
   ],
   "source": [
    "t.colnames"
   ]
  },
  {
   "cell_type": "code",
   "execution_count": 5,
   "id": "30c87c9a-e455-4013-b7a1-d6cea7faa0d5",
   "metadata": {},
   "outputs": [
    {
     "data": {
      "text/plain": [
       "30"
      ]
     },
     "execution_count": 5,
     "metadata": {},
     "output_type": "execute_result"
    }
   ],
   "source": [
    "len(t)"
   ]
  },
  {
   "cell_type": "code",
   "execution_count": 6,
   "id": "b6647898-a840-44cb-914c-9635fc6f8d51",
   "metadata": {},
   "outputs": [
    {
     "data": {
      "text/html": [
       "&lt;Column name=&apos;x&apos; dtype=&apos;float64&apos; length=30&gt;\n",
       "<table>\n",
       "<tr><td>0.0</td></tr>\n",
       "<tr><td>0.3448275862068966</td></tr>\n",
       "<tr><td>0.6896551724137931</td></tr>\n",
       "<tr><td>1.0344827586206895</td></tr>\n",
       "<tr><td>1.3793103448275863</td></tr>\n",
       "<tr><td>1.7241379310344829</td></tr>\n",
       "<tr><td>2.0689655172413794</td></tr>\n",
       "<tr><td>2.413793103448276</td></tr>\n",
       "<tr><td>2.7586206896551726</td></tr>\n",
       "<tr><td>3.1034482758620694</td></tr>\n",
       "<tr><td>3.4482758620689657</td></tr>\n",
       "<tr><td>3.793103448275862</td></tr>\n",
       "<tr><td>...</td></tr>\n",
       "<tr><td>6.551724137931035</td></tr>\n",
       "<tr><td>6.896551724137932</td></tr>\n",
       "<tr><td>7.241379310344828</td></tr>\n",
       "<tr><td>7.586206896551724</td></tr>\n",
       "<tr><td>7.931034482758621</td></tr>\n",
       "<tr><td>8.275862068965518</td></tr>\n",
       "<tr><td>8.620689655172415</td></tr>\n",
       "<tr><td>8.965517241379311</td></tr>\n",
       "<tr><td>9.310344827586208</td></tr>\n",
       "<tr><td>9.655172413793103</td></tr>\n",
       "<tr><td>10.0</td></tr>\n",
       "</table>"
      ],
      "text/plain": [
       "<Column name='x' dtype='float64' length=30>\n",
       "               0.0\n",
       "0.3448275862068966\n",
       "0.6896551724137931\n",
       "1.0344827586206895\n",
       "1.3793103448275863\n",
       "1.7241379310344829\n",
       "2.0689655172413794\n",
       " 2.413793103448276\n",
       "2.7586206896551726\n",
       "3.1034482758620694\n",
       "3.4482758620689657\n",
       " 3.793103448275862\n",
       "               ...\n",
       " 6.551724137931035\n",
       " 6.896551724137932\n",
       " 7.241379310344828\n",
       " 7.586206896551724\n",
       " 7.931034482758621\n",
       " 8.275862068965518\n",
       " 8.620689655172415\n",
       " 8.965517241379311\n",
       " 9.310344827586208\n",
       " 9.655172413793103\n",
       "              10.0"
      ]
     },
     "execution_count": 6,
     "metadata": {},
     "output_type": "execute_result"
    }
   ],
   "source": [
    "t['x']"
   ]
  },
  {
   "cell_type": "code",
   "execution_count": 8,
   "id": "bfe75a43-bcf6-4701-910d-157a441840cc",
   "metadata": {},
   "outputs": [
    {
     "data": {
      "text/plain": [
       "np.float64(0.0)"
      ]
     },
     "execution_count": 8,
     "metadata": {},
     "output_type": "execute_result"
    }
   ],
   "source": [
    "t['x'][0]"
   ]
  },
  {
   "cell_type": "code",
   "execution_count": 9,
   "id": "8a73a0ea-ee33-4c94-b7ef-a021acd9aa7e",
   "metadata": {},
   "outputs": [
    {
     "data": {
      "text/html": [
       "<i>Row index=1</i>\n",
       "<table id=\"table2591532048272\">\n",
       "<thead><tr><th>x</th><th>noisy_y</th><th>y_error</th></tr></thead>\n",
       "<thead><tr><th>float64</th><th>float64</th><th>float64</th></tr></thead>\n",
       "<tr><td>0.3448275862068966</td><td>3.661686702075544</td><td>1.9425413624122048</td></tr>\n",
       "</table>"
      ],
      "text/plain": [
       "<Row index=1>\n",
       "        x               noisy_y           y_error      \n",
       "     float64            float64           float64      \n",
       "------------------ ----------------- ------------------\n",
       "0.3448275862068966 3.661686702075544 1.9425413624122048"
      ]
     },
     "execution_count": 9,
     "metadata": {},
     "output_type": "execute_result"
    }
   ],
   "source": [
    "t[1]"
   ]
  },
  {
   "cell_type": "code",
   "execution_count": 11,
   "id": "f023351e-22cf-41a6-a961-77148e1a273f",
   "metadata": {},
   "outputs": [
    {
     "data": {
      "text/plain": [
       "np.float64(0.3448275862068966)"
      ]
     },
     "execution_count": 11,
     "metadata": {},
     "output_type": "execute_result"
    }
   ],
   "source": [
    "t[1]['x']"
   ]
  },
  {
   "cell_type": "code",
   "execution_count": 12,
   "id": "591d28e8-5071-494f-800c-0fbc338ba260",
   "metadata": {},
   "outputs": [
    {
     "data": {
      "text/html": [
       "<div><i>Table length=2</i>\n",
       "<table id=\"table2591628024080\" class=\"table-striped table-bordered table-condensed\">\n",
       "<thead><tr><th>x</th><th>noisy_y</th><th>y_error</th></tr></thead>\n",
       "<thead><tr><th>float64</th><th>float64</th><th>float64</th></tr></thead>\n",
       "<tr><td>0.0</td><td>1.7360509309286671</td><td>1.6042382156957993</td></tr>\n",
       "<tr><td>0.3448275862068966</td><td>3.661686702075544</td><td>1.9425413624122048</td></tr>\n",
       "</table></div>"
      ],
      "text/plain": [
       "<Table length=2>\n",
       "        x               noisy_y            y_error      \n",
       "     float64            float64            float64      \n",
       "------------------ ------------------ ------------------\n",
       "               0.0 1.7360509309286671 1.6042382156957993\n",
       "0.3448275862068966  3.661686702075544 1.9425413624122048"
      ]
     },
     "execution_count": 12,
     "metadata": {},
     "output_type": "execute_result"
    }
   ],
   "source": [
    "t[0:2]"
   ]
  },
  {
   "cell_type": "code",
   "execution_count": 13,
   "id": "baf1a0c1-d076-46bb-9a43-6ba6ea084866",
   "metadata": {},
   "outputs": [
    {
     "data": {
      "text/html": [
       "<div><i>Table length=30</i>\n",
       "<table id=\"table2591611921520\" class=\"table-striped table-bordered table-condensed\">\n",
       "<thead><tr><th>x</th><th>noisy_y</th></tr></thead>\n",
       "<thead><tr><th>float64</th><th>float64</th></tr></thead>\n",
       "<tr><td>0.0</td><td>1.7360509309286671</td></tr>\n",
       "<tr><td>0.3448275862068966</td><td>3.661686702075544</td></tr>\n",
       "<tr><td>0.6896551724137931</td><td>1.18057784261486</td></tr>\n",
       "<tr><td>1.0344827586206895</td><td>2.610231712463395</td></tr>\n",
       "<tr><td>1.3793103448275863</td><td>5.959862116812046</td></tr>\n",
       "<tr><td>1.7241379310344829</td><td>4.1941453450668895</td></tr>\n",
       "<tr><td>2.0689655172413794</td><td>5.817846322419468</td></tr>\n",
       "<tr><td>2.413793103448276</td><td>4.36012846802356</td></tr>\n",
       "<tr><td>2.7586206896551726</td><td>6.614945026338582</td></tr>\n",
       "<tr><td>...</td><td>...</td></tr>\n",
       "<tr><td>6.896551724137932</td><td>14.144107931240503</td></tr>\n",
       "<tr><td>7.241379310344828</td><td>14.17439339221375</td></tr>\n",
       "<tr><td>7.586206896551724</td><td>10.044923709321903</td></tr>\n",
       "<tr><td>7.931034482758621</td><td>17.430864750866952</td></tr>\n",
       "<tr><td>8.275862068965518</td><td>17.069328979376184</td></tr>\n",
       "<tr><td>8.620689655172415</td><td>18.40780478378687</td></tr>\n",
       "<tr><td>8.965517241379311</td><td>21.252155356973937</td></tr>\n",
       "<tr><td>9.310344827586208</td><td>21.33588223867946</td></tr>\n",
       "<tr><td>9.655172413793103</td><td>19.680452908107178</td></tr>\n",
       "<tr><td>10.0</td><td>23.41451090689951</td></tr>\n",
       "</table></div>"
      ],
      "text/plain": [
       "<Table length=30>\n",
       "        x               noisy_y      \n",
       "     float64            float64      \n",
       "------------------ ------------------\n",
       "               0.0 1.7360509309286671\n",
       "0.3448275862068966  3.661686702075544\n",
       "0.6896551724137931   1.18057784261486\n",
       "1.0344827586206895  2.610231712463395\n",
       "1.3793103448275863  5.959862116812046\n",
       "1.7241379310344829 4.1941453450668895\n",
       "2.0689655172413794  5.817846322419468\n",
       " 2.413793103448276   4.36012846802356\n",
       "2.7586206896551726  6.614945026338582\n",
       "               ...                ...\n",
       " 6.896551724137932 14.144107931240503\n",
       " 7.241379310344828  14.17439339221375\n",
       " 7.586206896551724 10.044923709321903\n",
       " 7.931034482758621 17.430864750866952\n",
       " 8.275862068965518 17.069328979376184\n",
       " 8.620689655172415  18.40780478378687\n",
       " 8.965517241379311 21.252155356973937\n",
       " 9.310344827586208  21.33588223867946\n",
       " 9.655172413793103 19.680452908107178\n",
       "              10.0  23.41451090689951"
      ]
     },
     "execution_count": 13,
     "metadata": {},
     "output_type": "execute_result"
    }
   ],
   "source": [
    "t['x','noisy_y']"
   ]
  },
  {
   "cell_type": "code",
   "execution_count": 21,
   "id": "15179e0c-c96a-46d3-9268-64862808960c",
   "metadata": {},
   "outputs": [
    {
     "data": {
      "image/png": "[encoded data removed]",
      "text/plain": [
       "<Figure size 640x480 with 1 Axes>"
      ]
     },
     "metadata": {},
     "output_type": "display_data"
    }
   ],
   "source": [
    "import matplotlib.pyplot as plt\n",
    "\n",
    "plt.hist(t['x'], range=[0., 10], bins=20)\n",
    "plt.xlabel('x')\n",
    "plt.ylabel('Counts')\n",
    "plt.show()"
   ]
  },
  {
   "cell_type": "code",
   "execution_count": null,
   "id": "3e7e0fd8-4733-401d-9425-046653ee50db",
   "metadata": {},
   "outputs": [],
   "source": []
  }
 ],
 "metadata": {
  "kernelspec": {
   "display_name": "Python [conda env:base] *",
   "language": "python",
   "name": "conda-base-py"
  },
  "language_info": {
   "codemirror_mode": {
    "name": "ipython",
    "version": 3
   },
   "file_extension": ".py",
   "mimetype": "text/x-python",
   "name": "python",
   "nbconvert_exporter": "python",
   "pygments_lexer": "ipython3",
   "version": "3.13.5"
  }
 },
 "nbformat": 4,
 "nbformat_minor": 5
}
