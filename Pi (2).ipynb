{
 "cells": [
  {
   "cell_type": "code",
   "execution_count": 48,
   "id": "c3e736bd-e011-4b7c-befc-045e14bc8ed8",
   "metadata": {},
   "outputs": [
    {
     "name": "stdout",
     "output_type": "stream",
     "text": [
      " The square is 8 units sided.\n",
      " The circle is radiated at 4 units.\n",
      " side of square = 2 x radius of the circle \n"
     ]
    },
    {
     "ename": "TypeError",
     "evalue": "'float' object cannot be interpreted as an integer",
     "output_type": "error",
     "traceback": [
      "\u001b[1;31m---------------------------------------------------------------------------\u001b[0m",
      "\u001b[1;31mTypeError\u001b[0m                                 Traceback (most recent call last)",
      "Cell \u001b[1;32mIn[48], line 67\u001b[0m\n\u001b[0;32m     63\u001b[0m     plt\u001b[38;5;241m.\u001b[39mshow()\n\u001b[0;32m     65\u001b[0m     \u001b[38;5;28;01mreturn\u001b[39;00m no_f_pts_circle\n\u001b[1;32m---> 67\u001b[0m main()\n",
      "Cell \u001b[1;32mIn[48], line 8\u001b[0m, in \u001b[0;36mmain\u001b[1;34m()\u001b[0m\n\u001b[0;32m      6\u001b[0m \u001b[38;5;28mprint\u001b[39m(\u001b[38;5;124m\"\u001b[39m\u001b[38;5;124m The circle is radiated at 4 units.\u001b[39m\u001b[38;5;124m\"\u001b[39m)\n\u001b[0;32m      7\u001b[0m \u001b[38;5;28mprint\u001b[39m( \u001b[38;5;124m\"\u001b[39m\u001b[38;5;124m side of square = 2 x radius of the circle \u001b[39m\u001b[38;5;124m\"\u001b[39m)\n\u001b[1;32m----> 8\u001b[0m \u001b[38;5;28;01mfor\u001b[39;00m n \u001b[38;5;129;01min\u001b[39;00m \u001b[38;5;28mrange\u001b[39m(\u001b[38;5;241m514\u001b[39m,\u001b[38;5;241m518\u001b[39m,\u001b[38;5;241m0.5\u001b[39m):\n\u001b[0;32m      9\u001b[0m     pi(n)\n\u001b[0;32m     10\u001b[0m     pi_value \u001b[38;5;241m=\u001b[39m \u001b[38;5;241m4\u001b[39m \u001b[38;5;241m*\u001b[39m (no_f_pts_circle\u001b[38;5;241m/\u001b[39mn)\n",
      "\u001b[1;31mTypeError\u001b[0m: 'float' object cannot be interpreted as an integer"
     ]
    }
   ],
   "source": [
    "import matplotlib.pyplot as plt\n",
    "import numpy as np\n",
    "\n",
    "def main():\n",
    "    print(\" The square is 8 units sided.\")\n",
    "    print(\" The circle is radiated at 4 units.\")\n",
    "    print( \" side of square = 2 x radius of the circle \")\n",
    "    for n in range(514,518,1):\n",
    "        pi(n)\n",
    "        pi_value = 4 * (no_f_pts_circle/n)\n",
    "        print(pi_value,n)\n",
    "def pi(n):\n",
    "    # making a plot area \n",
    "    plt.figure(figsize=(6,6))\n",
    "    plt.axhline(0, color='black', linewidth=1) \n",
    "    plt.axvline(0, color='black', linewidth=1)\n",
    "    \n",
    "    plt.xticks(np.arange(-6, 6, 1))\n",
    "    plt.yticks(np.arange(-6, 6, 1))\n",
    "    plt.grid(True, which='both', linestyle='-', linewidth=0.5)\n",
    "    \n",
    "    plt.xlim(-5, 5)\n",
    "    plt.ylim(-5, 5)\n",
    "    \n",
    "    # making a square, and plotting it\n",
    "    square_x = [4, -4, -4, 4, 4]\n",
    "    square_y = [4, 4, -4, -4, 4]\n",
    "    plt.plot(square_x, square_y, color='blue', linewidth=2)\n",
    "    \n",
    "    #making a circle, and plotting it\n",
    "    circle = plt.Circle((0, 0), 4, color='red', fill=False, linewidth=2)\n",
    "    plt.gca().add_patch(circle)\n",
    "    \n",
    "    #generate random numbers, make a list of them and plot them \n",
    "    x_r = np.random.uniform(-4, 4, n) \n",
    "    y_r = np.random.uniform(-4, 4, n)\n",
    "    \n",
    "    x = np.round(x_r,2)\n",
    "    y = np.round(y_r,2)\n",
    "    print(x,y)\n",
    "    \n",
    "    circle = []\n",
    "    square = []\n",
    "    \n",
    "    #figure out if the random numbers x,y together are within the circle or the square\n",
    "    for i in range(n):\n",
    "        r_calc = np.sqrt(x[i]**2 + y[i]**2)\n",
    "        r = np.round(r_calc,2)\n",
    "        if r<=4:\n",
    "            circle.append(r)\n",
    "        else:\n",
    "            square.append(r)\n",
    "            \n",
    "            no_f_pts_circle = len(circle)\n",
    "            no_f_pts_square = len(square)\n",
    "            \n",
    "    #final touche' ( labels, plot show ) \n",
    "    plt.scatter(x, y, color='red', label='Random points')\n",
    "    plt.xlabel(\"X-axis (units)\")\n",
    "    plt.ylabel(\"Y-axis (units)\")\n",
    "    plt.title(\"Pi\")\n",
    "    plt.axis('equal')\n",
    "    plt.show()\n",
    "\n",
    "    return no_f_pts_circle\n",
    "\n",
    "main()"
   ]
  },
  {
   "cell_type": "code",
   "execution_count": null,
   "id": "e29a9fb9-ec7d-402f-a33e-d65cbbca4618",
   "metadata": {},
   "outputs": [],
   "source": []
  },
  {
   "cell_type": "code",
   "execution_count": null,
   "id": "dcdee849-15ba-4c8c-acb5-6dbb3fd8ff98",
   "metadata": {},
   "outputs": [],
   "source": []
  }
 ],
 "metadata": {
  "kernelspec": {
   "display_name": "Python [conda env:base] *",
   "language": "python",
   "name": "conda-base-py"
  },
  "language_info": {
   "codemirror_mode": {
    "name": "ipython",
    "version": 3
   },
   "file_extension": ".py",
   "mimetype": "text/x-python",
   "name": "python",
   "nbconvert_exporter": "python",
   "pygments_lexer": "ipython3",
   "version": "3.13.5"
  }
 },
 "nbformat": 4,
 "nbformat_minor": 5
}
